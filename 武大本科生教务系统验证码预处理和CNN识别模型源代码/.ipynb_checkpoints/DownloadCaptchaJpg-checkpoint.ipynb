{
 "cells": [
  {
   "cell_type": "code",
   "execution_count": 2,
   "metadata": {},
   "outputs": [
    {
     "name": "stdout",
     "output_type": "stream",
     "text": [
      "1\n",
      "2\n",
      "3\n",
      "4\n",
      "5\n",
      "end\n"
     ]
    }
   ],
   "source": [
    "# -*- coding: utf-8 -*-\n",
    "import requests\n",
    "import os\n",
    "import os.path\n",
    "import time\n",
    "\n",
    "CAPTCHA_IMAGE_FOLDER = \"captcha_images\" # captcha_images\n",
    "\n",
    "img_url = 'http://bkjw.whu.edu.cn/servlet/GenImg'\n",
    "\n",
    "headers = {\n",
    "    'User-Agent': 'Mozilla/5.0 (Macintosh; Intel Mac OS X 10_15_1) AppleWebKit/537.36 (KHTML, like Gecko) Chrome/79.0.3945.117 Safari/537.36',\n",
    "    'Host': 'bkjw.whu.edu.cn',\n",
    "    'Accept': 'text/html,application/xhtml+xml,application/xml;q=0.9,image/webp,image/apng,*/*;q=0.8,application/signed-exchange;v=b3',\n",
    "    'Accept-Encoding': 'gzip, deflate',\n",
    "    'Accept-Language': 'zh,en;q=0.9,zh-TW;q=0.8,zh-CN;q=0.7'\n",
    "}\n",
    "\n",
    "# if the output directory does not exist, create it\n",
    "if not os.path.exists(CAPTCHA_IMAGE_FOLDER):\n",
    "    os.makedirs(CAPTCHA_IMAGE_FOLDER)\n",
    "\n",
    "i = 0\n",
    "while i < 5:\n",
    "    time.sleep( 0.5 )\n",
    "    img = requests.get(img_url, headers=headers)\n",
    "    f = open('./'+CAPTCHA_IMAGE_FOLDER+'/'+str(i)+'.jpg', 'ab')\n",
    "    f.write(img.content)\n",
    "    f.close()\n",
    "    i += 1\n",
    "    print(i)\n",
    "print('end')"
   ]
  },
  {
   "cell_type": "code",
   "execution_count": null,
   "metadata": {},
   "outputs": [],
   "source": []
  }
 ],
 "metadata": {
  "kernelspec": {
   "display_name": "Python 3",
   "language": "python",
   "name": "python3"
  },
  "language_info": {
   "codemirror_mode": {
    "name": "ipython",
    "version": 3
   },
   "file_extension": ".py",
   "mimetype": "text/x-python",
   "name": "python",
   "nbconvert_exporter": "python",
   "pygments_lexer": "ipython3",
   "version": "3.7.7"
  }
 },
 "nbformat": 4,
 "nbformat_minor": 2
}
