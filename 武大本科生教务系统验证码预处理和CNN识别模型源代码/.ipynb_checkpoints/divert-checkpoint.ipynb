{
 "cells": [
  {
   "cell_type": "code",
   "execution_count": 13,
   "metadata": {},
   "outputs": [
    {
     "name": "stdout",
     "output_type": "stream",
     "text": [
      "aax4\n",
      "e7ok\n",
      "pnin\n",
      "srpz\n",
      "vwns\n",
      "end\n"
     ]
    }
   ],
   "source": [
    "import os\n",
    "from PIL import Image\n",
    "from JpgPretreat import twoValue,clearNoise,saveImage,cfs,saveSmall,convert\n",
    "\n",
    "CAPTCHA_IMAGE_FOLDER = \"test\"\n",
    "extracted_letter_images = \"extracted_letter_images_\"\n",
    "\n",
    "if not os.path.exists(extracted_letter_images):\n",
    "    os.makedirs(extracted_letter_images)\n",
    "    \n",
    "for file in os.listdir(CAPTCHA_IMAGE_FOLDER):\n",
    "    image = Image.open('./'+CAPTCHA_IMAGE_FOLDER+'/'+file).convert(\"L\")\n",
    "    # 二值化\n",
    "    twoValue(image, 100) \n",
    "    # 降噪\n",
    "    clearNoise(image, 1, 1)\n",
    "    image=saveImage(image.size)\n",
    "    # 切割\n",
    "    x_cuts,y_cuts=cfs(image)\n",
    "    file = file.split('.')[0]\n",
    "    file = file.lower()\n",
    "    print(file)\n",
    "\n",
    "    for j, item in enumerate(x_cuts):\n",
    "        if j<4:\n",
    "            box = (item[0], 0, item[1], 30)\n",
    "            tmp=image.crop(box)\n",
    "            save_path = extracted_letter_images+'/'+file[j]\n",
    "            if not os.path.exists(save_path):\n",
    "                os.makedirs(save_path)\n",
    "            tmp.save('./'+save_path+'/'+file+'_'+str(j)+'.png')\n",
    "\n",
    "print('end')"
   ]
  },
  {
   "cell_type": "code",
   "execution_count": null,
   "metadata": {},
   "outputs": [],
   "source": []
  },
  {
   "cell_type": "code",
   "execution_count": null,
   "metadata": {},
   "outputs": [],
   "source": []
  }
 ],
 "metadata": {
  "kernelspec": {
   "display_name": "Python 3",
   "language": "python",
   "name": "python3"
  },
  "language_info": {
   "codemirror_mode": {
    "name": "ipython",
    "version": 3
   },
   "file_extension": ".py",
   "mimetype": "text/x-python",
   "name": "python",
   "nbconvert_exporter": "python",
   "pygments_lexer": "ipython3",
   "version": "3.7.7"
  }
 },
 "nbformat": 4,
 "nbformat_minor": 4
}
