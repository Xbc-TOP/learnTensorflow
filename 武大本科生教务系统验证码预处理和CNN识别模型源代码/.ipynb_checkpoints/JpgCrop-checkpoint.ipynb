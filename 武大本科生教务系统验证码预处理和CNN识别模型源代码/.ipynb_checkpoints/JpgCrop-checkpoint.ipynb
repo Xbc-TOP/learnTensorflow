{
 "cells": [
  {
   "cell_type": "code",
   "execution_count": 1,
   "metadata": {},
   "outputs": [
    {
     "name": "stdout",
     "output_type": "stream",
     "text": [
      "0.jpg\n",
      "1.jpg\n",
      "2.jpg\n",
      "3.jpg\n",
      "4.jpg\n",
      "end\n"
     ]
    }
   ],
   "source": [
    "# -*- coding: utf-8 -*-\n",
    "\n",
    "import os\n",
    "from PIL import Image\n",
    "from JpgPretreat import twoValue,clearNoise,saveImage,cfs,saveSmall,convert\n",
    "\n",
    "CAPTCHA_IMAGE_FOLDER = \"captcha_images\"\n",
    "extracted_letter_images = \"temp\"\n",
    "\n",
    "\n",
    "if not os.path.exists(extracted_letter_images):\n",
    "    os.makedirs(extracted_letter_images)\n",
    "    \n",
    "for file in os.listdir(CAPTCHA_IMAGE_FOLDER):\n",
    "    print(file)\n",
    "    #image = Image.open('./jpg/3.jpg').convert(\"L\")\n",
    "    image = Image.open('./'+CAPTCHA_IMAGE_FOLDER+'/'+file).convert(\"L\")\n",
    "    # 二值化\n",
    "    twoValue(image, 100) \n",
    "    # 降噪\n",
    "    clearNoise(image, 1, 1)\n",
    "    image=saveImage(image.size)\n",
    "    # 切割\n",
    "    x,y=cfs(image)\n",
    "    saveSmall(extracted_letter_images, file, image, x,y)\n",
    "\n",
    "print('end')"
   ]
  },
  {
   "cell_type": "code",
   "execution_count": null,
   "metadata": {},
   "outputs": [],
   "source": []
  }
 ],
 "metadata": {
  "kernelspec": {
   "display_name": "Python 3",
   "language": "python",
   "name": "python3"
  },
  "language_info": {
   "codemirror_mode": {
    "name": "ipython",
    "version": 3
   },
   "file_extension": ".py",
   "mimetype": "text/x-python",
   "name": "python",
   "nbconvert_exporter": "python",
   "pygments_lexer": "ipython3",
   "version": "3.7.7"
  }
 },
 "nbformat": 4,
 "nbformat_minor": 2
}
