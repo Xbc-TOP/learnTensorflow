{
 "cells": [
  {
   "cell_type": "code",
   "execution_count": 2,
   "metadata": {},
   "outputs": [
    {
     "name": "stdout",
     "output_type": "stream",
     "text": [
      "50\n",
      "100\n",
      "150\n",
      "200\n",
      "250\n",
      "300\n",
      "350\n",
      "400\n",
      "450\n",
      "500\n",
      "end\n"
     ]
    }
   ],
   "source": [
    "import os\n",
    "from PIL import Image\n",
    "from JpgPretreat import twoValue,clearNoise,saveImage,cfs,saveSmall,convert\n",
    "\n",
    "CAPTCHA_IMAGE_FOLDER = \"dataset\"\n",
    "extracted_letter_images = \"extracted_letter_images_\"\n",
    "\n",
    "if not os.path.exists(extracted_letter_images):\n",
    "    os.makedirs(extracted_letter_images)\n",
    "i = 0    \n",
    "for file in os.listdir(CAPTCHA_IMAGE_FOLDER):\n",
    "    image = Image.open('./'+CAPTCHA_IMAGE_FOLDER+'/'+file).convert(\"L\")\n",
    "    # 二值化\n",
    "    twoValue(image, 100) \n",
    "    # 降噪\n",
    "    clearNoise(image, 1, 1)\n",
    "    image=saveImage(image.size)\n",
    "    # 切割\n",
    "    x_cuts,y_cuts=cfs(image)\n",
    "    file = file.split('.')[0]\n",
    "\n",
    "    i += 1\n",
    "    if (i%50 == 0): print(i)\n",
    "\n",
    "    for j, item in enumerate(x_cuts):\n",
    "\n",
    "        if j<4:\n",
    "            box = (item[0], 0, item[1], 30)\n",
    "            tmp=image.crop(box)\n",
    "            \n",
    "            subfolder = 2*file[j] if file[j].isupper() else file[j]\n",
    "                \n",
    "            save_path = extracted_letter_images+'/'+subfolder\n",
    "            if not os.path.exists(save_path):\n",
    "                os.makedirs(save_path)\n",
    "            tmp.save('./'+save_path+'/'+file+'_'+str(j)+'.png')\n",
    "\n",
    "print('end')"
   ]
  },
  {
   "cell_type": "code",
   "execution_count": null,
   "metadata": {},
   "outputs": [],
   "source": []
  },
  {
   "cell_type": "code",
   "execution_count": null,
   "metadata": {},
   "outputs": [],
   "source": []
  }
 ],
 "metadata": {
  "kernelspec": {
   "display_name": "Python 3",
   "language": "python",
   "name": "python3"
  },
  "language_info": {
   "codemirror_mode": {
    "name": "ipython",
    "version": 3
   },
   "file_extension": ".py",
   "mimetype": "text/x-python",
   "name": "python",
   "nbconvert_exporter": "python",
   "pygments_lexer": "ipython3",
   "version": "3.7.7"
  }
 },
 "nbformat": 4,
 "nbformat_minor": 4
}
